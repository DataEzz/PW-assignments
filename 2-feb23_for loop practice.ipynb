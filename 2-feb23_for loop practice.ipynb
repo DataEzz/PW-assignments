{
 "cells": [
  {
   "cell_type": "markdown",
   "metadata": {},
   "source": [
    "Q1. Explain with an example each when to use a for loop and a while loop.\n",
    "Answer For loop is used to iterate over a sequence of items and While loop is used to repeatedly execute a block of statements while a condition is true"
   ]
  },
  {
   "cell_type": "code",
   "execution_count": 2,
   "metadata": {},
   "outputs": [
    {
     "name": "stdout",
     "output_type": "stream",
     "text": [
      "1\n",
      "2\n",
      "3\n",
      "4\n",
      "5\n"
     ]
    }
   ],
   "source": [
    "# for loop example\n",
    "l = [1,2,3,4,5]\n",
    "for i in l:\n",
    "   print(i)\n",
    "    "
   ]
  },
  {
   "cell_type": "code",
   "execution_count": null,
   "metadata": {},
   "outputs": [],
   "source": [
    "# while loop example\n",
    "l1 = [2,4,1,5,4,8,44,2,2,77,1,5,7,8,2,4,4,8,3,3,7,3,2,6,2]\n",
    "if "
   ]
  },
  {
   "cell_type": "markdown",
   "metadata": {},
   "source": [
    "Q2. Write a python program to print the sum and product of the first 10 natural numbers using for\n",
    "and while loop."
   ]
  },
  {
   "cell_type": "code",
   "execution_count": null,
   "metadata": {},
   "outputs": [],
   "source": [
    "n = int(input(\"enter a number: \"))\n",
    "i = 1\n",
    "sum = 0\n",
    "while (i <= n):\n",
    "    sum = sum + i\n",
    "    i = i + 1\n",
    "print(\"The sum is: \", sum)"
   ]
  }
 ],
 "metadata": {
  "kernelspec": {
   "display_name": "Python 3",
   "language": "python",
   "name": "python3"
  },
  "language_info": {
   "codemirror_mode": {
    "name": "ipython",
    "version": 3
   },
   "file_extension": ".py",
   "mimetype": "text/x-python",
   "name": "python",
   "nbconvert_exporter": "python",
   "pygments_lexer": "ipython3",
   "version": "3.11.3"
  },
  "orig_nbformat": 4
 },
 "nbformat": 4,
 "nbformat_minor": 2
}
