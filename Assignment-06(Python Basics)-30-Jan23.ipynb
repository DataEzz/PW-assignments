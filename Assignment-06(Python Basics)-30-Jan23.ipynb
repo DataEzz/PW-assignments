{
 "cells": [
  {
   "cell_type": "markdown",
   "metadata": {},
   "source": [
    "Q1. Write a program to accept percentage from the user and display the grade according to the following criteria:\n",
    " \n",
    "| Marks | Grade |\n",
    "|------|-------|\n",
    "| >90 | A |\n",
    "|>80 and <=90 | B |\n",
    "|>=60 and <=80 | C |\n",
    "|Below 60 | D |"
   ]
  },
  {
   "cell_type": "code",
   "execution_count": 16,
   "metadata": {},
   "outputs": [
    {
     "name": "stdout",
     "output_type": "stream",
     "text": [
      "Enter Your Percentage: 92.0\n",
      "You got A grade\n"
     ]
    }
   ],
   "source": [
    "Percentage = float(input(print(\"Enter Your Percentage:\",Percentage))) #input is 88\n",
    "if  Percentage > 90:\n",
    "    print(\"You got A grade\")\n",
    "elif Percentage > 80 and Percentage <= 90:\n",
    "    print(\"You got B grade\")\n",
    "elif Percentage >= 60 and Percentage <= 80:\n",
    "    print(\"You got C grade\")\n",
    "else:\n",
    "    print(\"You got D grade\")"
   ]
  },
  {
   "cell_type": "markdown",
   "metadata": {},
   "source": [
    "Q2. Write a program to aaccept the cost price of a bike and display the road tax to be paid according to the folowing criteria:\n",
    "\n",
    "| Tax | Cost Price (in RS) |\n",
    "|-----|------|\n",
    "|15%|>100000|\n",
    "|10%|>50000 and <=100000|\n",
    "|5%|<=50000|\n"
   ]
  },
  {
   "cell_type": "code",
   "execution_count": 17,
   "metadata": {},
   "outputs": [
    {
     "name": "stdout",
     "output_type": "stream",
     "text": [
      "Enter the cost price of Bike:  70000\n",
      "Road Tax of your Bike is Rs : 7000.0\n"
     ]
    }
   ],
   "source": [
    "cost_price = int(input(print(\"Enter the cost price of Bike: \",cost_price)))\n",
    "\n",
    "if cost_price > 100000:\n",
    "    road_tax = cost_price*0.15\n",
    "    print(\"Road Tax of your Bike is Rs :\",road_tax)\n",
    "elif cost_price > 50000 and cost_price <= 100000:\n",
    "    road_tax = cost_price*0.1\n",
    "    print(\"Road Tax of your Bike is Rs :\",road_tax)\n",
    "elif cost_price <= 50000:\n",
    "    road_tax = cost_price*0.05\n",
    "    print('Road Tax of your Bike is :',road_tax)\n",
    "        "
   ]
  },
  {
   "cell_type": "markdown",
   "metadata": {},
   "source": [
    "Q3. Accept any city from the user and display monuments of that city.\n",
    "\n",
    "|City|Monument|\n",
    "|----|-------|\n",
    "|Delhi|Red Fort|\n",
    "|Agra|Taj Mahal|\n",
    "|Jaipur|Jal Mahal|"
   ]
  },
  {
   "cell_type": "code",
   "execution_count": 9,
   "metadata": {},
   "outputs": [
    {
     "name": "stdout",
     "output_type": "stream",
     "text": [
      "Enter a city: Delhi\n",
      "Monument: Red Fort\n"
     ]
    }
   ],
   "source": [
    "city = input(print(\"Enter a city:\", city))\n",
    "if city == \"Delhi\":\n",
    "    print(\"Monument: Red Fort\")\n",
    "elif city == \"Agra\":\n",
    "    print(\"Monument : Taj Mahal\")\n",
    "elif city == \"Jaipur\":\n",
    "    print(\"Monument : Jal Mahal\")\n",
    "else:\n",
    "    print(\"No Data\")"
   ]
  },
  {
   "cell_type": "markdown",
   "metadata": {},
   "source": [
    "Q4. Check how many times a Given number can be divided by 3 before it is less than or equal to 10."
   ]
  },
  {
   "cell_type": "code",
   "execution_count": 12,
   "metadata": {},
   "outputs": [
    {
     "name": "stdout",
     "output_type": "stream",
     "text": [
      "Enter the Number : 4.0\n",
      "The number can be divided by 3 1 times before it is less than or equal to 10.\n"
     ]
    }
   ],
   "source": [
    "Number = int(input(print(\"Enter the Number :\",Number)))\n",
    "count = 0\n",
    "\n",
    "while Number >10:\n",
    "    Number = Number/3\n",
    "    count += 1\n",
    "print(\"The number can be divided by 3\", count, \"times before it is less than or equal to 10.\")\n",
    "    "
   ]
  },
  {
   "cell_type": "markdown",
   "metadata": {},
   "source": [
    "Q5. Why and When to use while Loop in python give a detailed description with example"
   ]
  },
  {
   "cell_type": "code",
   "execution_count": null,
   "metadata": {},
   "outputs": [],
   "source": []
  }
 ],
 "metadata": {
  "kernelspec": {
   "display_name": "Python 3",
   "language": "python",
   "name": "python3"
  },
  "language_info": {
   "codemirror_mode": {
    "name": "ipython",
    "version": 3
   },
   "file_extension": ".py",
   "mimetype": "text/x-python",
   "name": "python",
   "nbconvert_exporter": "python",
   "pygments_lexer": "ipython3",
   "version": "3.11.3"
  },
  "orig_nbformat": 4
 },
 "nbformat": 4,
 "nbformat_minor": 2
}
